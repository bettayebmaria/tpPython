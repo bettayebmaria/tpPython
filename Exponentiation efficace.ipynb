{
 "cells": [
  {
   "cell_type": "markdown",
   "metadata": {},
   "source": [
    "# Groupe :"
   ]
  },
  {
   "cell_type": "raw",
   "metadata": {},
   "source": [
    "-Bettayeb Maria 201500008629"
   ]
  },
  {
   "cell_type": "raw",
   "metadata": {},
   "source": [
    "-Metahri zineb 201400007344"
   ]
  },
  {
   "cell_type": "raw",
   "metadata": {},
   "source": [
    "-Asma kreddia 201500008892"
   ]
  },
  {
   "cell_type": "raw",
   "metadata": {},
   "source": [
    "-Mokhtari khadidja 201400008174"
   ]
  },
  {
   "cell_type": "raw",
   "metadata": {},
   "source": [
    "section A"
   ]
  },
  {
   "cell_type": "markdown",
   "metadata": {},
   "source": [
    "# Exponentiation efficace"
   ]
  },
  {
   "cell_type": "code",
   "execution_count": 6,
   "metadata": {},
   "outputs": [
    {
     "name": "stdout",
     "output_type": "stream",
     "text": [
      "entrer une puissance :15\n",
      "le nbre min est  5\n",
      "1630\n"
     ]
    }
   ],
   "source": [
    "def min_prod(k):\n",
    "    \n",
    "    def méthode_efficace(n):\n",
    "        liste=[]; \n",
    "        liste.append(1);\n",
    "        a=1;\n",
    "        if a==1:\n",
    "            liste.append(2);\n",
    "            somme=3;\n",
    "            while somme < int(k):\n",
    "                liste.append(somme)\n",
    "                i=somme;\n",
    "                j=somme;\n",
    "                t=1;\n",
    "                while i + j>int(k):\n",
    "                    j = liste[-t];\n",
    "                    t += 1;\n",
    "                somme = i+j;\n",
    "            m=len(liste)\n",
    "            return m\n",
    "    def méthode_binaire(n):\n",
    "        liste=[];\n",
    "        liste.append(1);\n",
    "        a=0\n",
    "        somme=2;\n",
    "        if a==0:\n",
    "            while somme < int(k):\n",
    "                liste.append(somme)\n",
    "                i=somme;\n",
    "                j=somme;\n",
    "                t=1;\n",
    "                while i + j>int(k):\n",
    "                    j = liste[-t];\n",
    "                    t += 1;\n",
    "                somme = i+j;\n",
    "            n=len(liste)\n",
    "            return n\n",
    "    m=méthode_binaire(k);\n",
    "    n=méthode_efficace(k);\n",
    "    nb_min=min(n,m)\n",
    "    return nb_min\n",
    "k=input(\"entrer une puissance :\")   \n",
    "somme=0;\n",
    "for i in range(1,200):\n",
    "    somme += min_prod(i)\n",
    "print(\"le nbre min est \",min_prod(k))    \n",
    "print(somme)   \n",
    "\n",
    "\n",
    "\n"
   ]
  }
 ],
 "metadata": {
  "kernelspec": {
   "display_name": "Python 3",
   "language": "python",
   "name": "python3"
  },
  "language_info": {
   "codemirror_mode": {
    "name": "ipython",
    "version": 3
   },
   "file_extension": ".py",
   "mimetype": "text/x-python",
   "name": "python",
   "nbconvert_exporter": "python",
   "pygments_lexer": "ipython3",
   "version": "3.5.2"
  }
 },
 "nbformat": 4,
 "nbformat_minor": 2
}
