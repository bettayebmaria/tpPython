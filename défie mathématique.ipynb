{
 "cells": [
  {
   "cell_type": "markdown",
   "metadata": {},
   "source": [
    "# Groupe :"
   ]
  },
  {
   "cell_type": "markdown",
   "metadata": {},
   "source": [
    "-Bettayeb Maria 201500008629"
   ]
  },
  {
   "cell_type": "markdown",
   "metadata": {},
   "source": [
    "-Metahri zineb 201400007344"
   ]
  },
  {
   "cell_type": "markdown",
   "metadata": {},
   "source": [
    "-Asma kreddia  201500008892"
   ]
  },
  {
   "cell_type": "markdown",
   "metadata": {},
   "source": [
    "-Mokhtari khadidja 201400008174"
   ]
  },
  {
   "cell_type": "markdown",
   "metadata": {},
   "source": [
    "# section A "
   ]
  },
  {
   "cell_type": "markdown",
   "metadata": {},
   "source": [
    "# carré parfait"
   ]
  },
  {
   "cell_type": "code",
   "execution_count": 7,
   "metadata": {},
   "outputs": [],
   "source": [
    "from random import randint\n",
    "import math \n",
    "\n",
    "def genererSousEnsembles(d,f):\n",
    "    i = d\n",
    "    s = []\n",
    "    #générer les singletons    \n",
    "    while (i<=f):\n",
    "        s.append([i])\n",
    "        i+=1\n",
    "    \n",
    "    #parcours en largeur d'abord pour créer les autres sous ensembles\n",
    "    j=0\n",
    "    while (j<len(s)):\n",
    "        i=d\n",
    "        while (i<=f):\n",
    "            if (i not in s[j]):\n",
    "                b=s[j]+[i]            \n",
    "                b.sort()\n",
    "                if (b not in s):\n",
    "                    s.append(b)\n",
    "            i+=1\n",
    "        j+=1\n",
    "    return(s)\n",
    "\n",
    "def prodEltVec(s):\n",
    "    p=1\n",
    "    for i in s:\n",
    "        p*=i\n",
    "    return p\n",
    "    \n",
    "def nbCarreParfait(s):\n",
    "    cp=[]\n",
    "    for e in s:\n",
    "        c = math.sqrt(prodEltVec(e))\n",
    "        if (c%1==0):\n",
    "            cp.append(e)\n",
    "    return cp"
   ]
  },
  {
   "cell_type": "code",
   "execution_count": 8,
   "metadata": {},
   "outputs": [
    {
     "name": "stdout",
     "output_type": "stream",
     "text": [
      "[9]\n",
      "[5, 8, 10]\n",
      "[5, 8, 9, 10]\n"
     ]
    }
   ],
   "source": [
    "#l exemple donné dans l'énnoncé    \n",
    "l = genererSousEnsembles(5,10)\n",
    "for e in nbCarreParfait(l):\n",
    "    print(e)"
   ]
  },
  {
   "cell_type": "code",
   "execution_count": 3,
   "metadata": {},
   "outputs": [
    {
     "name": "stdout",
     "output_type": "stream",
     "text": [
      "15\n"
     ]
    }
   ],
   "source": [
    "l = genererSousEnsembles(40,55)\n",
    "print(len(nbCarreParfait(l)))"
   ]
  },
  {
   "cell_type": "code",
   "execution_count": null,
   "metadata": {},
   "outputs": [],
   "source": [
    "##très complexe ça n'a pas marché \n",
    "##J'ai pas pu générer les sous ensembles\n",
    "l = genererSousEnsembles(1000,1234)\n",
    "print(len(nbCarreParfait(l))%1000000007)"
   ]
  },
  {
   "cell_type": "code",
   "execution_count": null,
   "metadata": {},
   "outputs": [],
   "source": [
    "##très complexe ça n'a pas marché \n",
    "##J'ai pas pu générer les sous ensembles\n",
    "l = genererSousEnsembles(1000000,1234567)\n",
    "print(len(nbCarreParfait(l))%1000000007) "
   ]
  }
 ],
 "metadata": {
  "kernelspec": {
   "display_name": "Python 3",
   "language": "python",
   "name": "python3"
  },
  "language_info": {
   "codemirror_mode": {
    "name": "ipython",
    "version": 3
   },
   "file_extension": ".py",
   "mimetype": "text/x-python",
   "name": "python",
   "nbconvert_exporter": "python",
   "pygments_lexer": "ipython3",
   "version": "3.5.2"
  }
 },
 "nbformat": 4,
 "nbformat_minor": 2
}
